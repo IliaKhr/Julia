{
 "cells": [
  {
   "cell_type": "markdown",
   "id": "79f8434e",
   "metadata": {},
   "source": [
    "https://julialang.org/ <- Официальный сайт <br>\n",
    "https://www.youtube.com/watch?v=4igzy3bGVkQ <- Вводный урок"
   ]
  },
  {
   "cell_type": "markdown",
   "id": "053f4b27",
   "metadata": {},
   "source": [
    "### 1. Data Types + Basic Syntax"
   ]
  },
  {
   "cell_type": "code",
   "execution_count": null,
   "id": "4ecf46ab",
   "metadata": {},
   "outputs": [],
   "source": []
  },
  {
   "cell_type": "markdown",
   "id": "2c64ed6b",
   "metadata": {},
   "source": [
    "### 2. Data Structures: Dicts, Tupples, Arrays"
   ]
  },
  {
   "cell_type": "code",
   "execution_count": 1,
   "id": "7eda4814",
   "metadata": {},
   "outputs": [
    {
     "data": {
      "text/plain": [
       "Dict{Any, Any}()"
      ]
     },
     "execution_count": 1,
     "metadata": {},
     "output_type": "execute_result"
    }
   ],
   "source": [
    "d = Dict()"
   ]
  },
  {
   "cell_type": "code",
   "execution_count": 2,
   "id": "58991936",
   "metadata": {},
   "outputs": [
    {
     "name": "stdout",
     "output_type": "stream",
     "text": [
      "Dict{Any, Any}()\n"
     ]
    }
   ],
   "source": [
    "println(d)"
   ]
  },
  {
   "cell_type": "code",
   "execution_count": 5,
   "id": "9665cc26",
   "metadata": {},
   "outputs": [
    {
     "data": {
      "text/plain": [
       "\"val_4\""
      ]
     },
     "execution_count": 5,
     "metadata": {},
     "output_type": "execute_result"
    }
   ],
   "source": [
    "d[\"key_1\"] = \"val_1\"\n",
    "d[\"key_2\"] = \"val_2\"\n",
    "d[\"key_3\"] = \"val_3\"\n",
    "d[\"key_4\"] = \"val_4\""
   ]
  },
  {
   "cell_type": "code",
   "execution_count": 7,
   "id": "305d801b",
   "metadata": {},
   "outputs": [
    {
     "data": {
      "text/plain": [
       "Dict{Any, Any} with 4 entries:\n",
       "  \"key_1\" => \"val_1\"\n",
       "  \"key_3\" => \"val_3\"\n",
       "  \"key_2\" => \"val_2\"\n",
       "  \"key_4\" => \"val_4\""
      ]
     },
     "execution_count": 7,
     "metadata": {},
     "output_type": "execute_result"
    }
   ],
   "source": [
    "d"
   ]
  },
  {
   "cell_type": "markdown",
   "id": "d6dbb490",
   "metadata": {},
   "source": [
    "**Array**"
   ]
  },
  {
   "cell_type": "code",
   "execution_count": 31,
   "id": "a6858922",
   "metadata": {},
   "outputs": [
    {
     "name": "stdout",
     "output_type": "stream",
     "text": [
      "[0, 1, 2, 3, 4, 5, 6, 7, 8, 9] <- this array has type: Vector{Int64}\n",
      "[\"a\", \"b\", \"c\"] <- this array has type: Vector{String}\n",
      "Any[0, \"a\", 2.7] <- this array has type: Vector{Any}\n",
      "\n",
      "0 <- before change of element\n",
      "21 <- after the change\n",
      "\n",
      "[21, 1, 2, 3, 4, 5, 6, 7, 8, 9] <- before pop-ing\n",
      "[21, 1, 2, 3, 4, 5, 6, 7, 8] <- after the pop-ing\n",
      "[21, 1, 2, 3, 4, 5, 6, 7, 8, 9] <- back again after pushing\n"
     ]
    }
   ],
   "source": [
    "# Определяем массив\n",
    "\n",
    "arr_ints = [0, 1, 2, 3, 4, 5, 6, 7, 8, 9]\n",
    "arr_strs = [\"a\", \"b\", \"c\"]\n",
    "arr_mixed = [0, \"a\", 2.7]\n",
    "println(\"$arr_ints <- this array has type: $(typeof(arr_ints))\")\n",
    "println(\"$arr_strs <- this array has type: $(typeof(arr_strs))\")\n",
    "println(\"$arr_mixed <- this array has type: $(typeof(arr_mixed))\")\n",
    "println()\n",
    "\n",
    "# Обращаемся к массиву (индексация)\n",
    "println(\"$(arr_ints[1]) <- before change of element\")\n",
    "\n",
    "# Можем поменять элемент, тк массив - mutable type\n",
    "arr_ints[1] = 21\n",
    "println(\"$(arr_ints[1]) <- after the change\")\n",
    "println()\n",
    "\n",
    "# Push && Pop methods <- Удаление и добавление элементов\n",
    "println(\"$(arr_ints) <- before pop-ing\")\n",
    "pop!(arr_ints)\n",
    "println(\"$(arr_ints) <- after the pop-ing\")\n",
    "push!(arr_ints, 9)\n",
    "println(\"$(arr_ints) <- back again after pushing\")"
   ]
  },
  {
   "cell_type": "code",
   "execution_count": 32,
   "id": "47445dae",
   "metadata": {},
   "outputs": [],
   "source": [
    "# Многомерные массивы"
   ]
  },
  {
   "cell_type": "code",
   "execution_count": null,
   "id": "0f834085",
   "metadata": {},
   "outputs": [],
   "source": []
  },
  {
   "cell_type": "code",
   "execution_count": null,
   "id": "343ee947",
   "metadata": {},
   "outputs": [],
   "source": []
  }
 ],
 "metadata": {
  "kernelspec": {
   "display_name": "Julia 1.6.2",
   "language": "julia",
   "name": "julia-1.6"
  },
  "language_info": {
   "file_extension": ".jl",
   "mimetype": "application/julia",
   "name": "julia",
   "version": "1.6.2"
  }
 },
 "nbformat": 4,
 "nbformat_minor": 5
}
